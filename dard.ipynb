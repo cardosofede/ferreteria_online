{
 "cells": [
  {
   "cell_type": "code",
   "execution_count": 1,
   "metadata": {
    "collapsed": true
   },
   "outputs": [],
   "source": [
    "import pandas as pd"
   ]
  },
  {
   "cell_type": "code",
   "execution_count": 6,
   "outputs": [],
   "source": [
    "df = pd.read_excel('Planilla_para_base_de_datos_de_productos.xlsx')"
   ],
   "metadata": {
    "collapsed": false,
    "pycharm": {
     "name": "#%%\n"
    }
   }
  },
  {
   "cell_type": "markdown",
   "source": [],
   "metadata": {
    "collapsed": false
   }
  },
  {
   "cell_type": "code",
   "execution_count": 21,
   "outputs": [
    {
     "data": {
      "text/plain": "Cómodo                                                  328\nBREMEN - DISTRIBUIDORA DEL OESTE - Ikron del Sur SRL    328\nDAFYS                                                   184\nInstasold                                                78\nDerplast - Industrias Catalar                            37\nBarbosa Juan Bautista - POXIBA                           29\nUNIPEGA - Soluciones Ferreteras SRL                      13\nCómodo                                                    1\nsin proveedor                                             1\nName: Proveedor (para info interna HOMEXPRESS), dtype: int64"
     },
     "execution_count": 21,
     "metadata": {},
     "output_type": "execute_result"
    }
   ],
   "source": [
    "df['Proveedor (para info interna HOMEXPRESS)'].value_counts()"
   ],
   "metadata": {
    "collapsed": false,
    "pycharm": {
     "name": "#%%\n"
    }
   }
  },
  {
   "cell_type": "code",
   "execution_count": 41,
   "outputs": [
    {
     "data": {
      "text/plain": "                                                                                SKU\nProveedor (para info interna HOMEXPRESS)           Costo interno (sin iva)         \nBREMEN - DISTRIBUIDORA DEL OESTE - Ikron del Su... 2997.0                       NaN\n                                                   3298.0                       NaN\n                                                   325.0                        NaN\n                                                   775.0                    11775.0\n                                                   575.0                        NaN\n...                                                                             ...\nUNIPEGA - Soluciones Ferreteras SRL                NaN                          NaN\n                                                   NaN                          NaN\n                                                   NaN                          NaN\n                                                   NaN                          NaN\nsin proveedor                                      1250.0                       NaN\n\n[999 rows x 1 columns]",
      "text/html": "<div>\n<style scoped>\n    .dataframe tbody tr th:only-of-type {\n        vertical-align: middle;\n    }\n\n    .dataframe tbody tr th {\n        vertical-align: top;\n    }\n\n    .dataframe thead th {\n        text-align: right;\n    }\n</style>\n<table border=\"1\" class=\"dataframe\">\n  <thead>\n    <tr style=\"text-align: right;\">\n      <th></th>\n      <th></th>\n      <th>SKU</th>\n    </tr>\n    <tr>\n      <th>Proveedor (para info interna HOMEXPRESS)</th>\n      <th>Costo interno (sin iva)</th>\n      <th></th>\n    </tr>\n  </thead>\n  <tbody>\n    <tr>\n      <th rowspan=\"5\" valign=\"top\">BREMEN - DISTRIBUIDORA DEL OESTE - Ikron del Sur SRL</th>\n      <th>2997.0</th>\n      <td>NaN</td>\n    </tr>\n    <tr>\n      <th>3298.0</th>\n      <td>NaN</td>\n    </tr>\n    <tr>\n      <th>325.0</th>\n      <td>NaN</td>\n    </tr>\n    <tr>\n      <th>775.0</th>\n      <td>11775.0</td>\n    </tr>\n    <tr>\n      <th>575.0</th>\n      <td>NaN</td>\n    </tr>\n    <tr>\n      <th>...</th>\n      <th>...</th>\n      <td>...</td>\n    </tr>\n    <tr>\n      <th rowspan=\"4\" valign=\"top\">UNIPEGA - Soluciones Ferreteras SRL</th>\n      <th>NaN</th>\n      <td>NaN</td>\n    </tr>\n    <tr>\n      <th>NaN</th>\n      <td>NaN</td>\n    </tr>\n    <tr>\n      <th>NaN</th>\n      <td>NaN</td>\n    </tr>\n    <tr>\n      <th>NaN</th>\n      <td>NaN</td>\n    </tr>\n    <tr>\n      <th>sin proveedor</th>\n      <th>1250.0</th>\n      <td>NaN</td>\n    </tr>\n  </tbody>\n</table>\n<p>999 rows × 1 columns</p>\n</div>"
     },
     "execution_count": 41,
     "metadata": {},
     "output_type": "execute_result"
    }
   ],
   "source": [
    "def dict_adjustment(group):\n",
    "    global suppliers\n",
    "    if suppliers.get(group['Proveedor (para info interna HOMEXPRESS)'].unique()[0]):\n",
    "        df = pd.DataFrame(\n",
    "            group['SKU'],\n",
    "            group['Costo interno (sin iva)'] * suppliers.get(group['Proveedor (para info interna HOMEXPRESS)'].unique()[0])\n",
    "        )\n",
    "    else:\n",
    "        df = pd.DataFrame(\n",
    "            group['SKU'],\n",
    "            group['Costo interno (sin iva)']\n",
    "        )\n",
    "    return df\n",
    "\n",
    "suppliers = {'Instasold': 10}\n",
    "\n",
    "df.groupby('Proveedor (para info interna HOMEXPRESS)').apply(dict_adjustment)"
   ],
   "metadata": {
    "collapsed": false,
    "pycharm": {
     "name": "#%%\n"
    }
   }
  },
  {
   "cell_type": "code",
   "execution_count": 32,
   "outputs": [
    {
     "data": {
      "text/plain": "<pandas.core.groupby.generic.DataFrameGroupBy object at 0x7f8420dbcc10>"
     },
     "execution_count": 32,
     "metadata": {},
     "output_type": "execute_result"
    }
   ],
   "source": [
    "df.groupby('Proveedor (para info interna HOMEXPRESS)').transform()"
   ],
   "metadata": {
    "collapsed": false,
    "pycharm": {
     "name": "#%%\n"
    }
   }
  },
  {
   "cell_type": "code",
   "execution_count": 12,
   "outputs": [
    {
     "data": {
      "text/plain": "Bremen      304\nNebraska    163\nWorkpro     119\nBiassoni     43\nEzeta        43\n           ... \nGiber         1\nDafys         1\nFrance        1\nTYROLIT       1\nBosch         1\nName: Marca, Length: 74, dtype: int64"
     },
     "execution_count": 12,
     "metadata": {},
     "output_type": "execute_result"
    }
   ],
   "source": [
    "df.Marca.value_counts()"
   ],
   "metadata": {
    "collapsed": false,
    "pycharm": {
     "name": "#%%\n"
    }
   }
  },
  {
   "cell_type": "code",
   "execution_count": 14,
   "outputs": [
    {
     "data": {
      "text/plain": "Herramientas             694\nFerreteria               158\nSanitarios y plomería     67\nPiletas y jardines        51\nHogar                     45\nElectricidad              42\nHogar                     27\nHerramientas               8\nSanitario y plomería       3\nPintura                    2\nName: Categoría, dtype: int64"
     },
     "execution_count": 14,
     "metadata": {},
     "output_type": "execute_result"
    }
   ],
   "source": [
    "df.Categoría.value_counts()"
   ],
   "metadata": {
    "collapsed": false,
    "pycharm": {
     "name": "#%%\n"
    }
   }
  },
  {
   "cell_type": "code",
   "execution_count": 16,
   "outputs": [
    {
     "data": {
      "text/plain": "Manuales                               536\nVarios                                 148\nEléctricas/batería                     133\nMechas                                  74\nSanitarios                              66\nRuedas y deslizadores                   21\nAdhesivos                               16\nEPP (elementos protección personal)     15\nEscaleras                               13\nMaquinaria                              12\nTomacorrientes                           9\nSelladores                               9\nLubricantes                              9\nCables                                   8\nLamparas                                 8\nCandados                                 5\nCarretillas                              5\nBombas                                   4\nArtefactos                               3\nInterruptores                            1\nBazar                                    1\nvarios                                   1\nName: Subcategoría, dtype: int64"
     },
     "execution_count": 16,
     "metadata": {},
     "output_type": "execute_result"
    }
   ],
   "source": [
    "df.Subcategoría.value_counts()"
   ],
   "metadata": {
    "collapsed": false,
    "pycharm": {
     "name": "#%%\n"
    }
   }
  },
  {
   "cell_type": "code",
   "execution_count": 22,
   "outputs": [
    {
     "data": {
      "text/plain": "          SKU Proveedor (para info interna HOMEXPRESS)  \\\n0     10000.0            Derplast - Industrias Catalar   \n1     10001.0            Derplast - Industrias Catalar   \n2     10002.0            Derplast - Industrias Catalar   \n3     10003.0            Derplast - Industrias Catalar   \n4     10004.0            Derplast - Industrias Catalar   \n...       ...                                      ...   \n1311  11311.0                                      NaN   \n1312  11312.0                                      NaN   \n1313  11313.0                                      NaN   \n1314  11314.0                                      NaN   \n1315  11315.0                                      NaN   \n\n                                 Nombre del Producto  \\\n0            Llave armada 1 toma multiple blanco 10A   \n1                   Llave armada 2 puntos 10A blanco   \n2     Llave armada 2 tomas multiple 2 modulos blanco   \n3                        Lámpara incandescente 15 w    \n4                         Lámpara led Bulbo luz fría   \n...                                              ...   \n1311                                             NaN   \n1312                                             NaN   \n1313                                             NaN   \n1314                                             NaN   \n1315                                             NaN   \n\n                               Descripción del producto   Marca     Categoría  \\\n0                   Contiene bastidor, tapa y tornillos    Sica  Electricidad   \n1                    Contiene bastidor, tapa y tornillo    Sica  Electricidad   \n2                    Contiene bastidor, tapa y tornillo    Sica  Electricidad   \n3     15 w - Color transparente - incandescente perf...  France  Electricidad   \n4                                     9 w Casquillo E27   Luxom  Electricidad   \n...                                                 ...     ...           ...   \n1311                                                NaN     NaN           NaN   \n1312                                                NaN     NaN           NaN   \n1313                                                NaN     NaN           NaN   \n1314                                                NaN     NaN           NaN   \n1315                                                NaN     NaN           NaN   \n\n        Subcategoría            Imagen del producto (nombre de archivo)  \\\n0     Tomacorrientes            Imagen del producto (nombre de archivo)   \n1      Interruptores          LLAVE ARMADA PUNTO DOBLE BLANCO SICA LIFE   \n2     Tomacorrientes           LLAVE ARMADA TOMA DOBLE BLANCO SICA LIFE   \n3           Lamparas  LAMPARA HALOGENA INCANDESCENTE PERFUME 15W FRA...   \n4           Lamparas                LAMPARA LED BULBO 9W LUZ FRIA LUXOM   \n...              ...                                                ...   \n1311             NaN                                                NaN   \n1312             NaN                                                NaN   \n1313             NaN                                                NaN   \n1314             NaN                                                NaN   \n1315             NaN                                                NaN   \n\n     Detalle Unidad de medida  Cantidad Unidad de Medida  ...  \\\n0                         NaN                        NaN  ...   \n1                         NaN                        NaN  ...   \n2                         NaN                        NaN  ...   \n3                         NaN                        NaN  ...   \n4                         NaN                        NaN  ...   \n...                       ...                        ...  ...   \n1311                      NaN                        NaN  ...   \n1312                      NaN                        NaN  ...   \n1313                      NaN                        NaN  ...   \n1314                      NaN                        NaN  ...   \n1315                      NaN                        NaN  ...   \n\n      Medidas volumen profundidad  Medida Peso  Número de pieza de fabricante  \\\n0                             NaN          NaN                         545205   \n1                             NaN          NaN                         545218   \n2                             NaN          NaN                         545206   \n3                             NaN          NaN                      60LAMPERF   \n4                             NaN          NaN                        LUX9WLD   \n...                           ...          ...                            ...   \n1311                          NaN          NaN                            NaN   \n1312                          NaN          NaN                            NaN   \n1313                          NaN          NaN                            NaN   \n1314                          NaN          NaN                            NaN   \n1315                          NaN          NaN                            NaN   \n\n      Stock  Stock mínimo  EN HOME HAY  Hernán retiro  FALTA Código de barra  \\\n0      60.0           NaN         60.0            NaN    0.0    5.452059e+12   \n1      60.0           NaN         60.0            NaN    0.0    7.791772e+12   \n2      60.0           NaN         60.0            NaN    0.0    5.452066e+12   \n3     100.0           NaN        100.0            NaN    0.0             NaN   \n4     200.0           NaN        200.0            NaN    0.0    7.546975e+11   \n...     ...           ...          ...            ...    ...             ...   \n1311    NaN           NaN          NaN            NaN    NaN             NaN   \n1312    NaN           NaN          NaN            NaN    NaN             NaN   \n1313    NaN           NaN          NaN            NaN    NaN             NaN   \n1314    NaN           NaN          NaN            NaN    NaN             NaN   \n1315    NaN           NaN          NaN            NaN    NaN             NaN   \n\n     Observaciones  \n0              NaN  \n1              NaN  \n2              NaN  \n3              NaN  \n4              NaN  \n...            ...  \n1311           NaN  \n1312           NaN  \n1313           NaN  \n1314           NaN  \n1315           NaN  \n\n[1316 rows x 27 columns]",
      "text/html": "<div>\n<style scoped>\n    .dataframe tbody tr th:only-of-type {\n        vertical-align: middle;\n    }\n\n    .dataframe tbody tr th {\n        vertical-align: top;\n    }\n\n    .dataframe thead th {\n        text-align: right;\n    }\n</style>\n<table border=\"1\" class=\"dataframe\">\n  <thead>\n    <tr style=\"text-align: right;\">\n      <th></th>\n      <th>SKU</th>\n      <th>Proveedor (para info interna HOMEXPRESS)</th>\n      <th>Nombre del Producto</th>\n      <th>Descripción del producto</th>\n      <th>Marca</th>\n      <th>Categoría</th>\n      <th>Subcategoría</th>\n      <th>Imagen del producto (nombre de archivo)</th>\n      <th>Detalle Unidad de medida</th>\n      <th>Cantidad Unidad de Medida</th>\n      <th>...</th>\n      <th>Medidas volumen profundidad</th>\n      <th>Medida Peso</th>\n      <th>Número de pieza de fabricante</th>\n      <th>Stock</th>\n      <th>Stock mínimo</th>\n      <th>EN HOME HAY</th>\n      <th>Hernán retiro</th>\n      <th>FALTA</th>\n      <th>Código de barra</th>\n      <th>Observaciones</th>\n    </tr>\n  </thead>\n  <tbody>\n    <tr>\n      <th>0</th>\n      <td>10000.0</td>\n      <td>Derplast - Industrias Catalar</td>\n      <td>Llave armada 1 toma multiple blanco 10A</td>\n      <td>Contiene bastidor, tapa y tornillos</td>\n      <td>Sica</td>\n      <td>Electricidad</td>\n      <td>Tomacorrientes</td>\n      <td>Imagen del producto (nombre de archivo)</td>\n      <td>NaN</td>\n      <td>NaN</td>\n      <td>...</td>\n      <td>NaN</td>\n      <td>NaN</td>\n      <td>545205</td>\n      <td>60.0</td>\n      <td>NaN</td>\n      <td>60.0</td>\n      <td>NaN</td>\n      <td>0.0</td>\n      <td>5.452059e+12</td>\n      <td>NaN</td>\n    </tr>\n    <tr>\n      <th>1</th>\n      <td>10001.0</td>\n      <td>Derplast - Industrias Catalar</td>\n      <td>Llave armada 2 puntos 10A blanco</td>\n      <td>Contiene bastidor, tapa y tornillo</td>\n      <td>Sica</td>\n      <td>Electricidad</td>\n      <td>Interruptores</td>\n      <td>LLAVE ARMADA PUNTO DOBLE BLANCO SICA LIFE</td>\n      <td>NaN</td>\n      <td>NaN</td>\n      <td>...</td>\n      <td>NaN</td>\n      <td>NaN</td>\n      <td>545218</td>\n      <td>60.0</td>\n      <td>NaN</td>\n      <td>60.0</td>\n      <td>NaN</td>\n      <td>0.0</td>\n      <td>7.791772e+12</td>\n      <td>NaN</td>\n    </tr>\n    <tr>\n      <th>2</th>\n      <td>10002.0</td>\n      <td>Derplast - Industrias Catalar</td>\n      <td>Llave armada 2 tomas multiple 2 modulos blanco</td>\n      <td>Contiene bastidor, tapa y tornillo</td>\n      <td>Sica</td>\n      <td>Electricidad</td>\n      <td>Tomacorrientes</td>\n      <td>LLAVE ARMADA TOMA DOBLE BLANCO SICA LIFE</td>\n      <td>NaN</td>\n      <td>NaN</td>\n      <td>...</td>\n      <td>NaN</td>\n      <td>NaN</td>\n      <td>545206</td>\n      <td>60.0</td>\n      <td>NaN</td>\n      <td>60.0</td>\n      <td>NaN</td>\n      <td>0.0</td>\n      <td>5.452066e+12</td>\n      <td>NaN</td>\n    </tr>\n    <tr>\n      <th>3</th>\n      <td>10003.0</td>\n      <td>Derplast - Industrias Catalar</td>\n      <td>Lámpara incandescente 15 w</td>\n      <td>15 w - Color transparente - incandescente perf...</td>\n      <td>France</td>\n      <td>Electricidad</td>\n      <td>Lamparas</td>\n      <td>LAMPARA HALOGENA INCANDESCENTE PERFUME 15W FRA...</td>\n      <td>NaN</td>\n      <td>NaN</td>\n      <td>...</td>\n      <td>NaN</td>\n      <td>NaN</td>\n      <td>60LAMPERF</td>\n      <td>100.0</td>\n      <td>NaN</td>\n      <td>100.0</td>\n      <td>NaN</td>\n      <td>0.0</td>\n      <td>NaN</td>\n      <td>NaN</td>\n    </tr>\n    <tr>\n      <th>4</th>\n      <td>10004.0</td>\n      <td>Derplast - Industrias Catalar</td>\n      <td>Lámpara led Bulbo luz fría</td>\n      <td>9 w Casquillo E27</td>\n      <td>Luxom</td>\n      <td>Electricidad</td>\n      <td>Lamparas</td>\n      <td>LAMPARA LED BULBO 9W LUZ FRIA LUXOM</td>\n      <td>NaN</td>\n      <td>NaN</td>\n      <td>...</td>\n      <td>NaN</td>\n      <td>NaN</td>\n      <td>LUX9WLD</td>\n      <td>200.0</td>\n      <td>NaN</td>\n      <td>200.0</td>\n      <td>NaN</td>\n      <td>0.0</td>\n      <td>7.546975e+11</td>\n      <td>NaN</td>\n    </tr>\n    <tr>\n      <th>...</th>\n      <td>...</td>\n      <td>...</td>\n      <td>...</td>\n      <td>...</td>\n      <td>...</td>\n      <td>...</td>\n      <td>...</td>\n      <td>...</td>\n      <td>...</td>\n      <td>...</td>\n      <td>...</td>\n      <td>...</td>\n      <td>...</td>\n      <td>...</td>\n      <td>...</td>\n      <td>...</td>\n      <td>...</td>\n      <td>...</td>\n      <td>...</td>\n      <td>...</td>\n      <td>...</td>\n    </tr>\n    <tr>\n      <th>1311</th>\n      <td>11311.0</td>\n      <td>NaN</td>\n      <td>NaN</td>\n      <td>NaN</td>\n      <td>NaN</td>\n      <td>NaN</td>\n      <td>NaN</td>\n      <td>NaN</td>\n      <td>NaN</td>\n      <td>NaN</td>\n      <td>...</td>\n      <td>NaN</td>\n      <td>NaN</td>\n      <td>NaN</td>\n      <td>NaN</td>\n      <td>NaN</td>\n      <td>NaN</td>\n      <td>NaN</td>\n      <td>NaN</td>\n      <td>NaN</td>\n      <td>NaN</td>\n    </tr>\n    <tr>\n      <th>1312</th>\n      <td>11312.0</td>\n      <td>NaN</td>\n      <td>NaN</td>\n      <td>NaN</td>\n      <td>NaN</td>\n      <td>NaN</td>\n      <td>NaN</td>\n      <td>NaN</td>\n      <td>NaN</td>\n      <td>NaN</td>\n      <td>...</td>\n      <td>NaN</td>\n      <td>NaN</td>\n      <td>NaN</td>\n      <td>NaN</td>\n      <td>NaN</td>\n      <td>NaN</td>\n      <td>NaN</td>\n      <td>NaN</td>\n      <td>NaN</td>\n      <td>NaN</td>\n    </tr>\n    <tr>\n      <th>1313</th>\n      <td>11313.0</td>\n      <td>NaN</td>\n      <td>NaN</td>\n      <td>NaN</td>\n      <td>NaN</td>\n      <td>NaN</td>\n      <td>NaN</td>\n      <td>NaN</td>\n      <td>NaN</td>\n      <td>NaN</td>\n      <td>...</td>\n      <td>NaN</td>\n      <td>NaN</td>\n      <td>NaN</td>\n      <td>NaN</td>\n      <td>NaN</td>\n      <td>NaN</td>\n      <td>NaN</td>\n      <td>NaN</td>\n      <td>NaN</td>\n      <td>NaN</td>\n    </tr>\n    <tr>\n      <th>1314</th>\n      <td>11314.0</td>\n      <td>NaN</td>\n      <td>NaN</td>\n      <td>NaN</td>\n      <td>NaN</td>\n      <td>NaN</td>\n      <td>NaN</td>\n      <td>NaN</td>\n      <td>NaN</td>\n      <td>NaN</td>\n      <td>...</td>\n      <td>NaN</td>\n      <td>NaN</td>\n      <td>NaN</td>\n      <td>NaN</td>\n      <td>NaN</td>\n      <td>NaN</td>\n      <td>NaN</td>\n      <td>NaN</td>\n      <td>NaN</td>\n      <td>NaN</td>\n    </tr>\n    <tr>\n      <th>1315</th>\n      <td>11315.0</td>\n      <td>NaN</td>\n      <td>NaN</td>\n      <td>NaN</td>\n      <td>NaN</td>\n      <td>NaN</td>\n      <td>NaN</td>\n      <td>NaN</td>\n      <td>NaN</td>\n      <td>NaN</td>\n      <td>...</td>\n      <td>NaN</td>\n      <td>NaN</td>\n      <td>NaN</td>\n      <td>NaN</td>\n      <td>NaN</td>\n      <td>NaN</td>\n      <td>NaN</td>\n      <td>NaN</td>\n      <td>NaN</td>\n      <td>NaN</td>\n    </tr>\n  </tbody>\n</table>\n<p>1316 rows × 27 columns</p>\n</div>"
     },
     "execution_count": 22,
     "metadata": {},
     "output_type": "execute_result"
    }
   ],
   "source": [
    "\n",
    "df['Costo interno (sin iva)']"
   ],
   "metadata": {
    "collapsed": false,
    "pycharm": {
     "name": "#%%\n"
    }
   }
  }
 ],
 "metadata": {
  "kernelspec": {
   "display_name": "Python 3",
   "language": "python",
   "name": "python3"
  },
  "language_info": {
   "codemirror_mode": {
    "name": "ipython",
    "version": 2
   },
   "file_extension": ".py",
   "mimetype": "text/x-python",
   "name": "python",
   "nbconvert_exporter": "python",
   "pygments_lexer": "ipython2",
   "version": "2.7.6"
  }
 },
 "nbformat": 4,
 "nbformat_minor": 0
}